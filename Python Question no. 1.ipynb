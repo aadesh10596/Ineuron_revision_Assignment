{
 "cells": [
  {
   "cell_type": "code",
   "execution_count": 1,
   "id": "f5e35a1a",
   "metadata": {},
   "outputs": [],
   "source": [
    "def highest_frequency_length(sentence):    # Take Sentence as input\n",
    "    \n",
    "    words = sentence.split()               # Spliting Sentence into words\n",
    "    \n",
    "    repeated_words = {}                    # Assigning a variable to store repeated words\n",
    "    for i in words:                        # Iterate through all the words in the sentence\n",
    "        if i in repeated_words:            # If words are repeated increase the counter by 1 else keep 1\n",
    "            repeated_words[i] +=1\n",
    "        else:\n",
    "            repeated_words[i] = 1\n",
    "        \n",
    "    length = max(repeated_words.values())       # Maximum values of repeated words\n",
    "    for i, frequency in repeated_words.items():   # Iterate through repeated words items\n",
    "        if frequency == length:                       # if frequency of the number is equal to length then iterator i is assign to\n",
    "            highest_word = i                             # variable\n",
    "    \n",
    "    highest_word_length= len(highest_word)      # length of the word \n",
    "    \n",
    "    return highest_word, highest_word_length    # return repeated words and length of the word\n",
    "    "
   ]
  },
  {
   "cell_type": "code",
   "execution_count": 2,
   "id": "2625a44f",
   "metadata": {},
   "outputs": [
    {
     "data": {
      "text/plain": [
       "('she', 3)"
      ]
     },
     "execution_count": 2,
     "metadata": {},
     "output_type": "execute_result"
    }
   ],
   "source": [
    "highest_frequency_length(\"she said she said she said she said she was going to be late.\")"
   ]
  },
  {
   "cell_type": "code",
   "execution_count": 3,
   "id": "1c230a98",
   "metadata": {},
   "outputs": [
    {
     "data": {
      "text/plain": [
       "('played', 6)"
      ]
     },
     "execution_count": 3,
     "metadata": {},
     "output_type": "execute_result"
    }
   ],
   "source": [
    "highest_frequency_length(\"the children played and played until the sun went down\")"
   ]
  },
  {
   "cell_type": "code",
   "execution_count": 4,
   "id": "21831e23",
   "metadata": {},
   "outputs": [
    {
     "data": {
      "text/plain": [
       "('programmer', 10)"
      ]
     },
     "execution_count": 4,
     "metadata": {},
     "output_type": "execute_result"
    }
   ],
   "source": [
    "highest_frequency_length(\"I am a very good programmer, programmer\")"
   ]
  },
  {
   "cell_type": "code",
   "execution_count": null,
   "id": "fa6b18ea",
   "metadata": {},
   "outputs": [],
   "source": []
  }
 ],
 "metadata": {
  "kernelspec": {
   "display_name": "Python 3 (ipykernel)",
   "language": "python",
   "name": "python3"
  },
  "language_info": {
   "codemirror_mode": {
    "name": "ipython",
    "version": 3
   },
   "file_extension": ".py",
   "mimetype": "text/x-python",
   "name": "python",
   "nbconvert_exporter": "python",
   "pygments_lexer": "ipython3",
   "version": "3.10.9"
  }
 },
 "nbformat": 4,
 "nbformat_minor": 5
}
